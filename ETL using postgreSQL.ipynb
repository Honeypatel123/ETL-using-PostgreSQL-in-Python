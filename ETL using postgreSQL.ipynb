{
 "cells": [
  {
   "cell_type": "code",
   "execution_count": 1,
   "id": "75e06600",
   "metadata": {},
   "outputs": [],
   "source": [
    "#importing a keras file which is a well known API used to train and build deep learning model easier\n",
    "#tensorflow imports module and packages . tensetflow is open-source machine learning framework\n",
    "import tensorflow.keras as keras\n",
    "(xtrain,ytrain),(xtest,ytest)=keras.datasets.fashion_mnist.load_data()\n",
    "#(xtrain,xtest)-this is use for taking data from keras.datasets.fashion_mnist.load_data() , related to image\n",
    "#(ytrain,ytest)-this is use for taking data from keras.datasets.fashion_mnist.load_data() , related to image tags"
   ]
  },
  {
   "cell_type": "code",
   "execution_count": 2,
   "id": "3958eec2",
   "metadata": {},
   "outputs": [
    {
     "name": "stdout",
     "output_type": "stream",
     "text": [
      "(60000, 28, 28)\n",
      "(10000, 28, 28)\n",
      "(60000,)\n",
      "(10000,)\n"
     ]
    }
   ],
   "source": [
    "print(xtrain.shape)\n",
    "print(xtest.shape)\n",
    "print(ytrain.shape)\n",
    "print(ytest.shape)"
   ]
  },
  {
   "cell_type": "code",
   "execution_count": 3,
   "id": "23e79f47",
   "metadata": {},
   "outputs": [
    {
     "name": "stdout",
     "output_type": "stream",
     "text": [
      "(60000, 28, 28, 1)\n",
      "(60000,)\n",
      "(10000, 28, 28, 1)\n",
      "(10000,)\n"
     ]
    }
   ],
   "source": [
    "import numpy as np\n",
    "\n",
    "xtrain=xtrain.astype('float32')/255\n",
    "xtest=xtest.astype('float32')/255\n",
    "\n",
    "xtrain=np.reshape(xtrain,(xtrain.shape[0],28,28,1))\n",
    "xtest=np.reshape(xtest,(xtest.shape[0],28,28,1))\n",
    "\n",
    "print(xtrain.shape)\n",
    "print(ytrain.shape)\n",
    "print(xtest.shape)\n",
    "print(ytest.shape)\n"
   ]
  },
  {
   "cell_type": "code",
   "execution_count": 7,
   "id": "b2c5082e",
   "metadata": {},
   "outputs": [
    {
     "name": "stdout",
     "output_type": "stream",
     "text": [
      "Defaulting to user installation because normal site-packages is not writeable\n",
      "Requirement already satisfied: psycopg2 in c:\\users\\honey patel\\appdata\\roaming\\python\\python311\\site-packages (2.9.9)\n",
      "Note: you may need to restart the kernel to use updated packages.\n"
     ]
    },
    {
     "name": "stderr",
     "output_type": "stream",
     "text": [
      "DEPRECATION: Loading egg at c:\\programdata\\anaconda3\\lib\\site-packages\\vboxapi-1.0-py3.11.egg is deprecated. pip 23.3 will enforce this behaviour change. A possible replacement is to use pip for package installation..\n"
     ]
    }
   ],
   "source": [
    "pip install psycopg2\n"
   ]
  },
  {
   "cell_type": "code",
   "execution_count": 9,
   "id": "19b2facc",
   "metadata": {},
   "outputs": [],
   "source": [
    "import psycopg2\n",
    "from psycopg2 import sql\n",
    "import numpy as np\n",
    "\n",
    "# Connect to PostgreSQL database\n",
    "conn = psycopg2.connect(\n",
    "    dbname=\"fashion_mnist.db\",\n",
    "    user=\"postgres\",\n",
    "    password=\"Honey@1234\",\n",
    "    host=\"127.0.0.1\",\n",
    "    port=\"5432\"\n",
    ")\n",
    "\n",
    "# Create a cursor object to execute SQL commands\n",
    "cur = conn.cursor()\n",
    "\n",
    "# Create a table to store images\n",
    "cur.execute(\"\"\"\n",
    "    CREATE TABLE IF NOT EXISTS images (\n",
    "        id SERIAL PRIMARY KEY,\n",
    "        image BYTEA NOT NULL,\n",
    "        label INTEGER NOT NULL\n",
    "    );\n",
    "\"\"\")\n",
    "\n",
    "# Assuming xtrain, ytrain, xtest, ytest are already defined\n",
    "for i in range(xtrain.shape[0]):\n",
    "    # Convert numpy array to binary data\n",
    "    image_binary = psycopg2.Binary(xtrain[i].tobytes())\n",
    "    # Insert data into the table\n",
    "    cur.execute(\"\"\"\n",
    "        INSERT INTO images (image, label) VALUES (%s, %s);\n",
    "    \"\"\", (image_binary, int(ytrain[i])))\n",
    "\n",
    "# Commit changes to the database\n",
    "conn.commit()\n",
    "\n",
    "for i in range(xtest.shape[0]):\n",
    "    # Convert numpy array to binary data\n",
    "    image_binary = psycopg2.Binary(xtest[i].tobytes())\n",
    "    # Insert data into the table\n",
    "    cur.execute(\"\"\"\n",
    "        INSERT INTO images (image, label) VALUES (%s, %s);\n",
    "    \"\"\", (image_binary, int(ytest[i])))\n",
    "\n",
    "# Commit changes to the database\n",
    "conn.commit()\n",
    "\n",
    "# Close cursor and connection\n",
    "cur.close()\n",
    "conn.close()\n"
   ]
  },
  {
   "cell_type": "code",
   "execution_count": 10,
   "id": "b1a288e9",
   "metadata": {},
   "outputs": [
    {
     "name": "stdout",
     "output_type": "stream",
     "text": [
      "          id                                              image  label\n",
      "0          1  [b'\\x00', b'\\x00', b'\\x00', b'\\x00', b'\\x00', ...      9\n",
      "1          2  [b'\\x00', b'\\x00', b'\\x00', b'\\x00', b'\\x00', ...      0\n",
      "2          3  [b'\\x00', b'\\x00', b'\\x00', b'\\x00', b'\\x00', ...      0\n",
      "3          4  [b'\\x00', b'\\x00', b'\\x00', b'\\x00', b'\\x00', ...      3\n",
      "4          5  [b'\\x00', b'\\x00', b'\\x00', b'\\x00', b'\\x00', ...      0\n",
      "...      ...                                                ...    ...\n",
      "69995  69996  [b'\\x00', b'\\x00', b'\\x00', b'\\x00', b'\\x00', ...      9\n",
      "69996  69997  [b'\\x00', b'\\x00', b'\\x00', b'\\x00', b'\\x00', ...      1\n",
      "69997  69998  [b'\\x00', b'\\x00', b'\\x00', b'\\x00', b'\\x00', ...      8\n",
      "69998  69999  [b'\\x00', b'\\x00', b'\\x00', b'\\x00', b'\\x00', ...      1\n",
      "69999  70000  [b'\\x00', b'\\x00', b'\\x00', b'\\x00', b'\\x00', ...      5\n",
      "\n",
      "[70000 rows x 3 columns]\n"
     ]
    }
   ],
   "source": [
    "import psycopg2\n",
    "import pandas as pd\n",
    "\n",
    "# Connect to PostgreSQL database\n",
    "conn = psycopg2.connect(\n",
    "    dbname='fashion_mnist.db',\n",
    "    user='postgres',\n",
    "    password='Honey@1234',\n",
    "    host='127.0.0.1',  # or '127.0.0.1' if PostgreSQL is running locally\n",
    "    port='5432'       # default PostgreSQL port\n",
    ")\n",
    "\n",
    "# Create a cursor object to execute SQL commands\n",
    "cursor = conn.cursor()\n",
    "\n",
    "# Execute the SELECT query\n",
    "cursor.execute('SELECT * FROM images')\n",
    "\n",
    "# Fetch all rows from the result set\n",
    "rows = cursor.fetchall()\n",
    "\n",
    "# Convert the result set to a DataFrame using pandas\n",
    "data = pd.DataFrame(rows, columns=[desc[0] for desc in cursor.description])\n",
    "\n",
    "# Print the DataFrame\n",
    "print(data)\n",
    "\n",
    "# Close cursor and connection\n",
    "cursor.close()\n",
    "conn.close()\n"
   ]
  },
  {
   "cell_type": "code",
   "execution_count": null,
   "id": "c6929ed7",
   "metadata": {},
   "outputs": [],
   "source": []
  }
 ],
 "metadata": {
  "kernelspec": {
   "display_name": "Python 3 (ipykernel)",
   "language": "python",
   "name": "python3"
  },
  "language_info": {
   "codemirror_mode": {
    "name": "ipython",
    "version": 3
   },
   "file_extension": ".py",
   "mimetype": "text/x-python",
   "name": "python",
   "nbconvert_exporter": "python",
   "pygments_lexer": "ipython3",
   "version": "3.11.5"
  }
 },
 "nbformat": 4,
 "nbformat_minor": 5
}
